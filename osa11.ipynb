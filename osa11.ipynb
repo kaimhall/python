{
 "cells": [
  {
   "cell_type": "code",
   "execution_count": 1,
   "metadata": {},
   "outputs": [
    {
     "name": "stdout",
     "output_type": "stream",
     "text": [
      "1.0\n",
      "1.4142135623730951\n",
      "1.7320508075688772\n",
      "2.0\n"
     ]
    }
   ],
   "source": [
    "#11.1\n",
    "import math\n",
    "\n",
    "def neliojuuret(luvut: list):\n",
    "    return [math.sqrt(n) for n in luvut]\n",
    "rivit = neliojuuret([1,2,3,4])\n",
    "for rivi in rivit:\n",
    "    print(rivi)"
   ]
  },
  {
   "cell_type": "code",
   "execution_count": 3,
   "metadata": {
    "collapsed": true
   },
   "outputs": [
    {
     "name": "stdout",
     "output_type": "stream",
     "text": [
      "*\n",
      "**\n",
      "***\n",
      "****\n",
      "\n",
      "****\n",
      "***\n",
      "**\n",
      "*\n",
      "**********\n"
     ]
    }
   ],
   "source": [
    "#11.2\n",
    "def tahtirivit(l:list):\n",
    "     return ['*' * n for n in l] \n",
    "if __name__ == '__main__':\n",
    "    \n",
    "    rivit = tahtirivit([1,2,3,4])\n",
    "    for rivi in rivit:\n",
    "        print(rivi)\n",
    "    \n",
    "    print()\n",
    "    \n",
    "    rivit = tahtirivit([4, 3, 2, 1, 10])\n",
    "    for rivi in rivit:\n",
    "        print(rivi)"
   ]
  },
  {
   "cell_type": "code",
   "execution_count": 7,
   "metadata": {},
   "outputs": [
    {
     "name": "stdout",
     "output_type": "stream",
     "text": [
      "[5, 4, 3]\n"
     ]
    }
   ],
   "source": [
    "#11.3\n",
    "class Koesuoritus:\n",
    "    def __init__(self, nimi: str, arvosana1: int, arvosana2: int, arvosana3: int):\n",
    "        self.nimi = nimi\n",
    "        self.arvosana1 = arvosana1\n",
    "        self.arvosana2 = arvosana2\n",
    "        self.arvosana3 = arvosana3\n",
    "\n",
    "    def __str__(self):\n",
    "        return (f'Nimi:{self.nimi}, arvosana1: {self.arvosana1}' +\n",
    "            f', arvosana2: {self.arvosana2}, arvosana3: {self.arvosana3}')\n",
    "\n",
    "def parhaat_tulokset(suoritukset: list):\n",
    "    return [max(s.arvosana1, s.arvosana2, s.arvosana3) for s in suoritukset]\n",
    "\n",
    "if __name__ == '__main__':\n",
    "\n",
    "    suoritus1 = Koesuoritus(\"Pekka\",5,3,4)\n",
    "    suoritus2 = Koesuoritus(\"Pirjo\",3,4,1)\n",
    "    suoritus3 = Koesuoritus(\"Paavo\",2,1,3)\n",
    "    suoritukset = [suoritus1, suoritus2, suoritus3]\n",
    "    \n",
    "    print(parhaat_tulokset(suoritukset))\n",
    "\n"
   ]
  },
  {
   "cell_type": "code",
   "execution_count": 8,
   "metadata": {},
   "outputs": [
    {
     "name": "stdout",
     "output_type": "stream",
     "text": [
      "[5, 4, 0]\n"
     ]
    }
   ],
   "source": [
    "#11.4\n",
    "\n",
    "def pituudet(listat: list):\n",
    "    return [len(l) for l in listat]\n",
    "\n",
    "if __name__ == '__main__':\n",
    "    listat = [[1,2,3,4,5], [324, -1, 31, 7],[]]\n",
    "    print(pituudet(listat))"
   ]
  },
  {
   "cell_type": "code",
   "execution_count": 11,
   "metadata": {},
   "outputs": [
    {
     "name": "stdout",
     "output_type": "stream",
     "text": [
      "[65, 32, 11]\n",
      "[7, 8]\n"
     ]
    }
   ],
   "source": [
    "#11.5\n",
    "\n",
    "def poista_pienemmat(luvut: list, raja: int):\n",
    "    return [n for n in luvut if n > raja]\n",
    "\n",
    "if __name__ == '__main__':\n",
    "    lukuja = [1,65, 32, -6, 9, 11]\n",
    "    print(poista_pienemmat(lukuja, 10))\n",
    "    print(poista_pienemmat([-4, 7, 8, -100], 0))"
   ]
  },
  {
   "cell_type": "code",
   "execution_count": 21,
   "metadata": {},
   "outputs": [
    {
     "name": "stdout",
     "output_type": "stream",
     "text": [
      "auto\n",
      "Etana\n",
      "OMENA\n",
      "appelsiini\n"
     ]
    }
   ],
   "source": [
    "#11.6\n",
    "def vokaalilla_alkavat(sanat: list):\n",
    "    return [w for w in sanat if w[0].lower()in \"aeiouyäö\"]\n",
    "\n",
    "klista = [\"auto\",\"mopo\",\"Etana\",\"kissa\",\"Koira\",\"OMENA\",\"appelsiini\"]\n",
    "for vok in vokaalilla_alkavat(klista):\n",
    "    print(vok)"
   ]
  },
  {
   "cell_type": "code",
   "execution_count": null,
   "metadata": {},
   "outputs": [],
   "source": [
    "#11.7\n",
    "class Lottorivi:\n",
    "    def __init__(self, kierros: int, rivi: list):\n",
    "        self._kierros = kierros\n",
    "        self._rivi = rivi\n",
    "    \n",
    "    def osumien_maara(pelattu_rivi: list):\n",
    "        return len(n)"
   ]
  },
  {
   "cell_type": "code",
   "execution_count": 4,
   "metadata": {},
   "outputs": [
    {
     "name": "stdout",
     "output_type": "stream",
     "text": [
      "[1, 3, 4, 5, 10, 11, 12, 13, 14, 15]\n"
     ]
    }
   ],
   "source": [
    "def listaan_lukuja(luvut: list):\n",
    "    while len(luvut) % 5 != 0:\n",
    "        raja = len(luvut)\n",
    "        luvut.append(luvut[-1] + 1)\n",
    "\n",
    "luvut = [1,3,4,5,10,11]\n",
    "listaan_lukuja(luvut)\n",
    "print(luvut)\n"
   ]
  }
 ],
 "metadata": {
  "kernelspec": {
   "display_name": "Python 3",
   "language": "python",
   "name": "python3"
  },
  "language_info": {
   "codemirror_mode": {
    "name": "ipython",
    "version": 3
   },
   "file_extension": ".py",
   "mimetype": "text/x-python",
   "name": "python",
   "nbconvert_exporter": "python",
   "pygments_lexer": "ipython3",
   "version": "3.8.5"
  }
 },
 "nbformat": 4,
 "nbformat_minor": 4
}
