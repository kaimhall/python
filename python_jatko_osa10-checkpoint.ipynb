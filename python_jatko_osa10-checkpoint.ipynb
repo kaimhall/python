{
 "cells": [
  {
   "cell_type": "code",
   "execution_count": 69,
   "metadata": {},
   "outputs": [
    {
     "name": "stdout",
     "output_type": "stream",
     "text": [
      "Ferrari\n"
     ]
    }
   ],
   "source": [
    "#9.1(ratkaistu)\n",
    "class Auto:\n",
    "    def __init__(self, merkki: str, huippunopeus: int):\n",
    "        self.merkki = merkki\n",
    "        self.huippunopeus = huippunopeus\n",
    "    def __str__(self):\n",
    "        return f\"Auto (merkki: {self.merkki}, huippunopeus: {self.huippunopeus})\"\n",
    "\n",
    "def nopein_auto(autot: list):\n",
    "    nopein_merkki = autot[0].merkki\n",
    "    paras_nopeus = autot[0].huippunopeus\n",
    " \n",
    "    for auto in autot:\n",
    "        if auto.huippunopeus > paras_nopeus:\n",
    "            paras_nopeus = auto.huippunopeus\n",
    "            nopein_merkki = auto.merkki\n",
    " \n",
    "    return nopein_merkki\n",
    "\n",
    "def main():\n",
    "    auto1 = Auto(\"Mersu\", 195)\n",
    "    auto2 = Auto(\"Lada\", 110)\n",
    "    auto3 = Auto(\"Ferrari\", 280)\n",
    "    auto4 = Auto(\"Trabant\", 85)\n",
    "\n",
    "    autot = [auto1, auto2, auto3, auto4]\n",
    "    print(nopein_auto(autot))\n",
    "    \n",
    "if __name__ == \"__main__\":\n",
    "    main()"
   ]
  },
  {
   "cell_type": "code",
   "execution_count": 74,
   "metadata": {},
   "outputs": [
    {
     "name": "stdout",
     "output_type": "stream",
     "text": [
      "Koesuoritus (suorittaja: Pirjo, pisteet: 19)\n",
      "Koesuoritus (suorittaja: Pauli, pisteet: 15)\n",
      "Koesuoritus (suorittaja: Petriina, pisteet: 17)\n"
     ]
    }
   ],
   "source": [
    "#9.2\n",
    "class Koesuoritus:\n",
    "    def __init__(self, suorittaja: str, pisteet: int):\n",
    "        self.suorittaja = suorittaja\n",
    "        self.pisteet = pisteet\n",
    "    def __str__(self):\n",
    "        return f'Koesuoritus (suorittaja: {self.suorittaja}, pisteet: {self.pisteet})'\n",
    "\n",
    "def hyvaksytyt(suoritukset: list, pisteraja: int):\n",
    "    s = []\n",
    "    for suoritus in suoritukset:\n",
    "        if suoritus.pisteet >= pisteraja:\n",
    "            s.append(suoritus)\n",
    "    return s\n",
    "\n",
    "def main():\n",
    "    s1 = Koesuoritus(\"Pekka\", 12)\n",
    "    s2 = Koesuoritus(\"Pirjo\", 19)\n",
    "    s3 = Koesuoritus(\"Pauli\", 15)\n",
    "    s4 = Koesuoritus(\"Pirkko\", 9)\n",
    "    s5 = Koesuoritus(\"Petriina\", 17)\n",
    "\n",
    "    hyv = hyvaksytyt([s1, s2, s3, s4, s5], 15)\n",
    "    for hyvaksytty in hyv:\n",
    "        print(hyvaksytty)\n",
    "if __name__ == \"__main__\":\n",
    "    main()"
   ]
  },
  {
   "cell_type": "code",
   "execution_count": 83,
   "metadata": {},
   "outputs": [
    {
     "name": "stdout",
     "output_type": "stream",
     "text": [
      "Punnituksia tehty 0\n",
      "Punnituksia tehty 2\n",
      "Punnituksia tehty 6\n"
     ]
    }
   ],
   "source": [
    "#9.3\n",
    "class Henkilo:\n",
    "    def __init__(self, nimi: str, ika: int, pituus: int, paino: int):\n",
    "        self.nimi = nimi\n",
    "        self.ika = ika\n",
    "        self.pituus = pituus\n",
    "        self.paino = paino\n",
    "\n",
    "class Kasvatuslaitos:\n",
    "    def __init__(self):\n",
    "        self.punnitusten_lkm = 0\n",
    "\n",
    "    def punnitse(self, henkilo: Henkilo):\n",
    "        self.punnitusten_lkm += 1\n",
    "        return henkilo.paino\n",
    "    \n",
    "    def syota(self, henkilo: Henkilo):\n",
    "        henkilo.paino += 1\n",
    "        return henkilo.paino\n",
    "    \n",
    "    def punnitukset(self):\n",
    "        return self.punnitusten_lkm\n",
    "        \n",
    "def main():\n",
    "    \n",
    "    haagan_neuvola = Kasvatuslaitos()\n",
    "\n",
    "    eero = Henkilo(\"Eero\", 1, 110, 7)\n",
    "    pekka = Henkilo(\"Pekka\", 33, 176, 85)\n",
    "\n",
    "    print(f\"Punnituksia tehty {haagan_neuvola.punnitukset()}\")\n",
    "\n",
    "    haagan_neuvola.punnitse(eero)\n",
    "    haagan_neuvola.punnitse(eero)\n",
    "\n",
    "    print(f\"Punnituksia tehty {haagan_neuvola.punnitukset()}\")\n",
    "\n",
    "    haagan_neuvola.punnitse(eero)\n",
    "    haagan_neuvola.punnitse(eero)\n",
    "    haagan_neuvola.punnitse(eero)\n",
    "    haagan_neuvola.punnitse(eero)\n",
    "\n",
    "    print(f\"Punnituksia tehty {haagan_neuvola.punnitukset()}\")\n",
    "\n",
    "if __name__ == \"__main__\":\n",
    "    main()"
   ]
  },
  {
   "cell_type": "code",
   "execution_count": 94,
   "metadata": {
    "collapsed": true
   },
   "outputs": [
    {
     "name": "stdout",
     "output_type": "stream",
     "text": [
      "Kortilla rahaa 2 euroa\n",
      "Riittikö raha: False\n",
      "Kortilla rahaa 102 euroa\n",
      "Riittikö raha: True\n",
      "Kortilla rahaa 97.7 euroa\n",
      "Kassassa rahaa 1100\n",
      "Edullisia lounaita myyty 0\n",
      "Maukkaita lounaita myyty 1\n"
     ]
    }
   ],
   "source": [
    "# 9.4\n",
    "class Maksukortti:\n",
    "    def __init__(self, saldo: float):\n",
    "        self.saldo = saldo\n",
    "\n",
    "    def lataa_rahaa(self, lisays: float):\n",
    "        self.saldo += lisays\n",
    "\n",
    "    def ota_rahaa(self, maara: float):\n",
    "        if self.saldo >= maara:\n",
    "            self.saldo -= maara\n",
    "            return True\n",
    "        else:\n",
    "            self.saldo = self.saldo\n",
    "            return False\n",
    "        \n",
    "\n",
    "class Kassapaate:\n",
    "    def __init__(self):\n",
    "        # kassassa on aluksi 1000 euroa rahaa\n",
    "        self.rahaa = 1000\n",
    "        self.edulliset = 0\n",
    "        self.maukkaat = 0\n",
    "\n",
    "    def syo_edullisesti(self, maksu: float):\n",
    "        if maksu >= 2.50:\n",
    "            self.rahaa += 2.50\n",
    "            self.edulliset += 1\n",
    "            return maksu - 2.50\n",
    "        else:\n",
    "            return maksu\n",
    "        \n",
    "    def syo_maukkaasti(self, maksu: float):\n",
    "        if maksu >= 4.30:\n",
    "            self.rahaa += 4.30\n",
    "            self.maukkaat += 1\n",
    "            return maksu - 4.30\n",
    "        else:\n",
    "            return maksu\n",
    "        \n",
    "    def syo_edullisesti_kortilla(self, kortti:Maksukortti):\n",
    "        if kortti.saldo >= 2.50:\n",
    "            kortti.saldo -= 2.50\n",
    "            self.edulliset += 1\n",
    "            return True\n",
    "        else:\n",
    "            return False\n",
    "\n",
    "    def syo_maukkaasti_kortilla(self, kortti:Maksukortti):\n",
    "        if kortti.saldo >= 4.30:\n",
    "            kortti.saldo -= 4.30\n",
    "            self.maukkaat += 1\n",
    "            return True\n",
    "        else:\n",
    "            return False\n",
    "        \n",
    "    def lataa_rahaa_kortille(self, kortti: Maksukortti, summa: float):\n",
    "        kortti.saldo += summa\n",
    "        self.rahaa += summa\n",
    "\n",
    "def main():\n",
    "    exactum = Kassapaate()\n",
    "\n",
    "    antin_kortti = Maksukortti(2)\n",
    "    print(f\"Kortilla rahaa {antin_kortti.saldo} euroa\")\n",
    "\n",
    "    tulos = exactum.syo_maukkaasti_kortilla(antin_kortti)\n",
    "    print(\"Riittikö raha:\", tulos)\n",
    "\n",
    "    exactum.lataa_rahaa_kortille(antin_kortti, 100)\n",
    "    print(f\"Kortilla rahaa {antin_kortti.saldo} euroa\")\n",
    "\n",
    "    tulos = exactum.syo_maukkaasti_kortilla(antin_kortti)\n",
    "    print(\"Riittikö raha:\", tulos)\n",
    "    print(f\"Kortilla rahaa {antin_kortti.saldo} euroa\")\n",
    "\n",
    "    print(\"Kassassa rahaa\", exactum.rahaa)\n",
    "    print(\"Edullisia lounaita myyty\", exactum.edulliset)\n",
    "    print(\"Maukkaita lounaita myyty\", exactum.maukkaat)\n",
    "    \n",
    "if __name__ == \"__main__\":\n",
    "    main()"
   ]
  },
  {
   "cell_type": "code",
   "execution_count": 101,
   "metadata": {},
   "outputs": [
    {
     "name": "stdout",
     "output_type": "stream",
     "text": [
      "False\n",
      "True\n"
     ]
    }
   ],
   "source": [
    "#9.5\n",
    "\n",
    "class Asunto:\n",
    "    def __init__(self, huoneita: int, nelioita: int, neliohinta: int):\n",
    "        self.huoneita = huoneita\n",
    "        self.nelioita = nelioita\n",
    "        self.neliohinta = neliohinta\n",
    "    \n",
    "    def suurempi(self, verrattava: 'Henkilo'):\n",
    "        return self.nelioita > verrattava.nelioita\n",
    "        \n",
    "    def hintaero(self, verrattava: 'Henkilo'):\n",
    "        e1 = self.nelioita * self.neliohinta\n",
    "        e2 = verrattava.nelioita * verrattava.neliohinta\n",
    "        return abs(e1-e2)\n",
    "\n",
    "    def kalliimpi(self, verrattava: 'Henkilo'):\n",
    "        h1 = self.nelioita * self.neliohinta\n",
    "        h2 = verrattava.nelioita * verrattava.neliohinta\n",
    "        return h1>h2\n",
    "    \n",
    "def main():\n",
    "    eira_yksio = Asunto(1, 16, 5500)\n",
    "    kallio_kaksio = Asunto(2, 38, 4200)\n",
    "    jakomaki_kolmio = Asunto(3, 78, 2500)\n",
    "\n",
    "    print(eira_yksio.kalliimpi(kallio_kaksio))\n",
    "    print(jakomaki_kolmio.kalliimpi(kallio_kaksio))\n",
    "        \n",
    "if __name__ == \"__main__\":\n",
    "    main()"
   ]
  },
  {
   "cell_type": "code",
   "execution_count": 5,
   "metadata": {},
   "outputs": [
    {
     "name": "stdout",
     "output_type": "stream",
     "text": [
      "Leevi,kaverina Hulda, joka on sekarotuinen koira.\n"
     ]
    }
   ],
   "source": [
    "# TEE RATKAISUSI TÄHÄN:\n",
    "class Lemmikki:\n",
    "    def __init__(self, nimi: str, kuvaus: str):\n",
    "        self.nimi = nimi\n",
    "        self.kuvaus = kuvaus\n",
    "\n",
    "    def __str__(self):\n",
    "        return f\"{self.nimi} ({self.kuvaus})\"\n",
    "\n",
    "class Henkilo:\n",
    "    def __init__(self, nimi: str, lemmikki: Lemmikki):\n",
    "        self.nimi = nimi\n",
    "        self.lemmikki = lemmikki\n",
    "\n",
    "    def __str__(self):\n",
    "        return f\"{self.nimi},kaverina {self.lemmikki.nimi}, joka on {self.lemmikki.kuvaus}.\"\n",
    "\n",
    "def main():\n",
    "\n",
    "    hulda = Lemmikki(\"Hulda\", \"sekarotuinen koira\")\n",
    "    leevi = Henkilo(\"Leevi\", hulda)\n",
    "\n",
    "    print(leevi)\n",
    "    \n",
    "if __name__ == \"__main__\":\n",
    "    main()"
   ]
  },
  {
   "cell_type": "code",
   "execution_count": 7,
   "metadata": {},
   "outputs": [
    {
     "name": "stdout",
     "output_type": "stream",
     "text": [
      "Lahjan nimi: Aapiskukko\n",
      "Lahjan paino: 2\n",
      "Lahja: <__main__.Lahja object at 0x000001D9CEAC5FA0>\n"
     ]
    }
   ],
   "source": [
    "class Lahja:\n",
    "    def __init__(self, nimi: str, paino: int):\n",
    "        self.nimi = nimi\n",
    "        self.paino = paino\n",
    "        \n",
    "    def __str__(self):\n",
    "        return f\"{self.nimi}\n",
    "\n",
    "def main():\n",
    "\n",
    "    kirja = Lahja(\"Aapiskukko\", 2)\n",
    "\n",
    "    print(\"Lahjan nimi:\", kirja.nimi)\n",
    "    print(\"Lahjan paino:\" ,kirja.paino)\n",
    "    print(\"Lahja:\", kirja)\n",
    "    \n",
    "if __name__ == \"__main__\":\n",
    "    main()"
   ]
  }
 ],
 "metadata": {
  "kernelspec": {
   "display_name": "Python 3",
   "language": "python",
   "name": "python3"
  },
  "language_info": {
   "codemirror_mode": {
    "name": "ipython",
    "version": 3
   },
   "file_extension": ".py",
   "mimetype": "text/x-python",
   "name": "python",
   "nbconvert_exporter": "python",
   "pygments_lexer": "ipython3",
   "version": "3.8.5"
  }
 },
 "nbformat": 4,
 "nbformat_minor": 4
}
